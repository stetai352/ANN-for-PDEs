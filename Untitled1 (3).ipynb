{
 "cells": [
  {
   "cell_type": "markdown",
   "id": "f5be751f-e22b-4638-83b3-4ab64501ade6",
   "metadata": {
    "tags": []
   },
   "source": [
    "# Bca problem\n",
    "### Initialization"
   ]
  },
  {
   "cell_type": "code",
   "execution_count": 1,
   "id": "e1d4311e-f9a1-4aa0-89b1-6e8466784c0d",
   "metadata": {},
   "outputs": [],
   "source": [
    "from pymor.basic import *\n",
    "from pymor.reductors.neural_network import NeuralNetworkReductor\n",
    "import time\n",
    "import numpy as np\n",
    "import torch.optim as optim\n",
    "# For ROM\n",
    "from pymor.parameters.functionals import ExpressionParameterFunctional\n",
    "from pymor.reductors.coercive import CoerciveRBReductor\n",
    "from pymor.algorithms.greedy import rb_greedy\n",
    "# For pretty output\n",
    "from prettytable import PrettyTable"
   ]
  },
  {
   "cell_type": "markdown",
   "id": "18bdd674-ce9b-433c-8a83-811a0d98750a",
   "metadata": {
    "jp-MarkdownHeadingCollapsed": true,
    "tags": []
   },
   "source": [
    "### Define problem (archive)"
   ]
  },
  {
   "cell_type": "raw",
   "id": "71f67430-7164-4736-b919-31940617f8b4",
   "metadata": {
    "tags": []
   },
   "source": [
    "# Working tutorial\n",
    "problem = StationaryProblem(\n",
    "    domain=RectDomain(),\n",
    "    rhs=LincombFunction(\n",
    "        [ExpressionFunction(\"10\", 2), ConstantFunction(1.0, 2)],\n",
    "        [ProjectionParameterFunctional(\"mu\"), 0.1],\n",
    "    ),\n",
    "    diffusion=LincombFunction(\n",
    "        [ExpressionFunction(\"1 - x[0]\", 2), ExpressionFunction(\"x[0]\", 2)],\n",
    "        [ProjectionParameterFunctional(\"mu\"), 1],\n",
    "    ),\n",
    "    dirichlet_data=LincombFunction(\n",
    "        [ExpressionFunction(\"2 * x[0]\", 2), ConstantFunction(1.0, 2)],\n",
    "        [ProjectionParameterFunctional(\"mu\"), 0.5],\n",
    "    ),\n",
    "    name = \"2DProblem\",\n",
    ")\n",
    "    \n",
    "fom, data = discretize_stationary_cg(problem, diameter = 1/50)"
   ]
  },
  {
   "cell_type": "raw",
   "id": "e699becd-fef7-4b8d-aeab-0e0db9067bfc",
   "metadata": {
    "tags": []
   },
   "source": [
    "# Wave model\n",
    "problem = StationaryProblem(\n",
    "    domain=RectDomain(),\n",
    "    rhs=ConstantFunction(1., 2),\n",
    "    \n",
    "    diffusion=LincombFunction(\n",
    "        [ExpressionFunction(\"2 + cos(x[0]*2) * sin(x[1]*2)\", 2), ConstantFunction(1.0, 2)],\n",
    "        [ProjectionParameterFunctional(\"mu\"), 0.],\n",
    "    ),\n",
    "    \n",
    "    name = \"2DProblem\",\n",
    ")\n",
    "    \n",
    "fom, data = discretize_stationary_cg(problem, diameter = 1/50)"
   ]
  },
  {
   "cell_type": "raw",
   "id": "a2b2512b-a663-4a6c-ae59-e32634334093",
   "metadata": {
    "tags": []
   },
   "source": [
    "from itertools import product\n",
    "\n",
    "def thermal_block_problem(num_blocks=(3, 3), parameter_range=(0.1, 1)):\n",
    "    \"\"\"Analytical description of a 2D 'thermal block' diffusion problem.\n",
    "    The problem is to solve the elliptic equation ::\n",
    "      - ∇ ⋅ [ d(x, μ) ∇ u(x, μ) ] = 1\n",
    "    on the domain [0,1]^2 with Dirichlet zero boundary values. The domain is\n",
    "    partitioned into nx x ny blocks and the diffusion function d(x, μ) is\n",
    "    constant on each such block i with value μ_i. ::\n",
    "           ----------------------------\n",
    "           |        |        |        |\n",
    "           |  μ_4   |  μ_5   |  μ_6   |\n",
    "           |        |        |        |\n",
    "           |---------------------------\n",
    "           |        |        |        |\n",
    "           |  μ_1   |  μ_2   |  μ_3   |\n",
    "           |        |        |        |\n",
    "           ----------------------------\n",
    "    Parameters\n",
    "    ----------\n",
    "    num_blocks\n",
    "        The tuple `(nx, ny)`\n",
    "    parameter_range\n",
    "        A tuple `(μ_min, μ_max)`. Each |Parameter| component μ_i is allowed\n",
    "        to lie in the interval [μ_min, μ_max].\n",
    "    \"\"\"\n",
    "    def parameter_functional_factory(ix, iy):\n",
    "        return ProjectionParameterFunctional('diffusion',\n",
    "                                             size=num_blocks[0]*num_blocks[1],\n",
    "                                             index=ix + iy*num_blocks[0],\n",
    "                                             name=f'diffusion_{ix}_{iy}')\n",
    "    def diffusion_function_factory(ix, iy):\n",
    "        if ix + 1 < num_blocks[0]:\n",
    "            X = '(ix * dx <= x[0] < (ix + 1) * dx)'\n",
    "        else:\n",
    "            X = '(x[0] >= ix * dx)'\n",
    "        if iy + 1 < num_blocks[1]:\n",
    "            Y = '(iy * dy <= x[1] < (iy + 1) * dy)'\n",
    "        else:\n",
    "            Y = '(x[1] >= iy * dy)'\n",
    "        return ExpressionFunction(f'{X} * {Y} * 1.',\n",
    "                                  2, {}, {'ix': ix, 'iy': iy, 'dx': 1. / num_blocks[0], 'dy': 1. / num_blocks[1]},\n",
    "                                  name=f'diffusion_{ix}_{iy}')\n",
    "    return StationaryProblem(\n",
    "        domain=RectDomain(),\n",
    "        rhs=ConstantFunction(dim_domain=2, value=1.),\n",
    "        diffusion=LincombFunction([diffusion_function_factory(ix, iy)\n",
    "                                   for iy, ix in product(range(num_blocks[1]), range(num_blocks[0]))],\n",
    "                                  [parameter_functional_factory(ix, iy)\n",
    "                                   for iy, ix in product(range(num_blocks[1]), range(num_blocks[0]))],\n",
    "                                  name='diffusion'),\n",
    "        parameter_ranges=parameter_range,\n",
    "        name=f'ThermalBlock({num_blocks})'\n",
    "    )\n",
    "\n",
    "problem = thermal_block_problem((2, 2))\n",
    "\n",
    "fom, data = discretize_stationary_cg(problem, diameter = 1/50)\n",
    "\n",
    "mu = [0.1, 0.2, 0.5, 1]\n",
    "U = fom.solve(mu)\n",
    "fom.visualize(U)"
   ]
  },
  {
   "cell_type": "raw",
   "id": "3729ed9a-dfa5-4aaa-a5bd-59794004acd3",
   "metadata": {
    "tags": []
   },
   "source": [
    "problem = StationaryProblem(\n",
    "    domain=RectDomain(),\n",
    "    rhs=LincombFunction([ExpressionFunction('(sqrt( (x[0]-0.5)**2 + (x[1]-0.5)**2) <= 0.3) * 1.', 2), ConstantFunction(1.,2)],\n",
    "                        [1, ProjectionParameterFunctional('mu')]),\n",
    "    diffusion=ConstantFunction(1,2),\n",
    "    \n",
    "    name=\"2DProblem\",\n",
    ")\n",
    "\n",
    "fom, data = discretize_stationary_cg(problem, diameter = 1/50)"
   ]
  },
  {
   "cell_type": "raw",
   "id": "f9ea63a2-6c2b-434e-ad89-791e75231767",
   "metadata": {
    "tags": []
   },
   "source": [
    "problem = StationaryProblem(\n",
    "    domain = RectDomain(bottom='neumann'),\n",
    "    rhs = LincombFunction([ConstantFunction(0., 2)],[ProjectionParameterFunctional(\"mu\")]),\n",
    "    diffusion = ExpressionFunction(\n",
    "        '1. - (sqrt( ((x[0] % (1./K))-0.5/K)**2 + ((x[1] % (1./K)) - 0.5/K)**2) <= 0.3/K) * 0.999',\n",
    "        2, values = {'K':10}\n",
    "        ),\n",
    "    neumann_data = ConstantFunction(-1., 2),\n",
    "    name = \"2DProblem\",\n",
    ")\n",
    "\n",
    "fom, data = discretize_stationary_cg(problem, diameter = 1/100)"
   ]
  },
  {
   "cell_type": "raw",
   "id": "f501d15a-7474-4cf3-8549-f26129e67ac3",
   "metadata": {
    "tags": []
   },
   "source": [
    "problem = StationaryProblem(\n",
    "    domain=RectDomain(),\n",
    "    rhs=LincombFunction(\n",
    "        [ExpressionFunction(\"10\", 2), ConstantFunction(1.0, 2)],\n",
    "        [ProjectionParameterFunctional(\"mu\"), 0.1],\n",
    "    ),\n",
    "    diffusion = ExpressionFunction(\n",
    "        '1. - (sqrt( ((x[0] % (1./K))-0.5/K)**2 + ((x[1] % (1./K)) - 0.5/K)**2) <= 0.3/K) * 0.999',\n",
    "        2, values = {'K':10}\n",
    "    ),\n",
    "    dirichlet_data=LincombFunction(\n",
    "        [ExpressionFunction(\"2 * x[0]\", 2), ConstantFunction(1.0, 2)],\n",
    "        [ProjectionParameterFunctional(\"mu\"), 0.5],\n",
    "    ),\n",
    "    name = \"2DProblem\",\n",
    ")\n",
    "    \n",
    "fom, data = discretize_stationary_cg(problem, diameter = 1/50)"
   ]
  },
  {
   "cell_type": "raw",
   "id": "00044cf5-12b6-4c58-9d52-cc09a85d82cd",
   "metadata": {
    "tags": []
   },
   "source": [
    "# wave problem 3\n",
    "\n",
    "from itertools import product\n",
    "\n",
    "#def thermal_block_problem(num_blocks=(3, 3), parameter_range=(0.1, 1)):\n",
    "\"\"\"Analytical description of a 2D 'thermal block' diffusion problem.\n",
    "    The problem is to solve the elliptic equation ::\n",
    "      - ∇ ⋅ [ d(x, μ) ∇ u(x, μ) ] = 1\n",
    "    on the domain [0,1]^2 with Dirichlet zero boundary values. The domain is\n",
    "    partitioned into nx x ny blocks and the diffusion function d(x, μ) is\n",
    "    constant on each such block i with value μ_i. ::\n",
    "           ----------------------------\n",
    "           |        |        |        |\n",
    "           |  μ_4   |  μ_5   |  μ_6   |\n",
    "           |        |        |        |\n",
    "           |---------------------------\n",
    "           |        |        |        |\n",
    "           |  μ_1   |  μ_2   |  μ_3   |\n",
    "           |        |        |        |\n",
    "           ----------------------------\n",
    "    Parameters\n",
    "    ----------\n",
    "    num_blocks\n",
    "        The tuple `(nx, ny)`\n",
    "    parameter_range\n",
    "        A tuple `(μ_min, μ_max)`. Each |Parameter| component μ_i is allowed\n",
    "        to lie in the interval [μ_min, μ_max].\n",
    "    \"\"\"\n",
    "    \n",
    "parameter_range = (0.1, 1)\n",
    "num_blocks = (2, 2)\n",
    "    \n",
    "    \n",
    "def parameter_functional_factory(ix, iy):\n",
    "    return ProjectionParameterFunctional('diffusion',\n",
    "                                        size=num_blocks[0]*num_blocks[1],\n",
    "                                        index=ix + iy*num_blocks[0],\n",
    "                                        name=f'diffusion_{ix}_{iy}')\n",
    "def diffusion_function_factory(ix, iy):\n",
    "    if ix + 1 < num_blocks[0]:\n",
    "        X = '(ix * dx <= x[0] < (ix + 1) * dx)'\n",
    "    else:\n",
    "        X = '(x[0] >= ix * dx)'\n",
    "    if iy + 1 < num_blocks[1]:\n",
    "        Y = '(iy * dy <= x[1] < (iy + 1) * dy)'\n",
    "    else:\n",
    "        Y = '(x[1] >= iy * dy)'\n",
    "    #return ExpressionFunction(f'{X} * {Y} * 1.',\n",
    "    #                          2, {}, {'ix': ix, 'iy': iy, 'dx': 1. / num_blocks[0], 'dy': 1. / num_blocks[1]},\n",
    "    #                          name=f'diffusion_{ix}_{iy}')\n",
    "    return ExpressionFunction(f'{X} * {Y} * (2 + cos(x[0]*(2**(ix + iy * 2))) * sin(x[1]*(2**(ix + iy * 2))))', # 2 after iy is number of columns in partition\n",
    "                              2, {}, {'ix': ix, 'iy': iy, 'dx': 1. / num_blocks[0], 'dy': 1. / num_blocks[1]},\n",
    "                              name=f'diffusion_{ix}_{iy}')\n",
    "problem = StationaryProblem(\n",
    "            domain=RectDomain(),\n",
    "            rhs=ConstantFunction(dim_domain=2, value=1.),\n",
    "            diffusion=LincombFunction([diffusion_function_factory(ix, iy)\n",
    "                                     for iy, ix in product(range(num_blocks[1]), range(num_blocks[0]))],\n",
    "                                        [parameter_functional_factory(ix, iy)\n",
    "                                     for iy, ix in product(range(num_blocks[1]), range(num_blocks[0]))],\n",
    "                                     name='diffusion'),\n",
    "            parameter_ranges=parameter_range,\n",
    "            name=f'ThermalBlock({num_blocks})'\n",
    "        )\n",
    "\n",
    "# problem = thermal_block_problem((2, 2))\n",
    "\n",
    "fom, data = discretize_stationary_cg(problem, diameter = 1/50)\n",
    "\n",
    "mu = [0.1,0.1,0.1,1]#[0.1, 0.2, 0.5, 1]\n",
    "U = fom.solve(mu)\n",
    "fom.visualize(U)"
   ]
  },
  {
   "cell_type": "markdown",
   "id": "87c930f1-c5e7-47e9-bade-17524987a975",
   "metadata": {
    "tags": []
   },
   "source": [
    "### Define Problem"
   ]
  },
  {
   "cell_type": "raw",
   "id": "7c13f590-57c6-4989-9e67-9e91ab631d82",
   "metadata": {
    "tags": []
   },
   "source": [
    "# wave problem 4\n",
    "\n",
    "p0 = ProjectionParameterFunctional('diffusion', size = 4, index = 0)\n",
    "p1 = ProjectionParameterFunctional('diffusion', size = 4, index = 1)\n",
    "p2 = ProjectionParameterFunctional('diffusion', size = 4, index = 2)\n",
    "p3 = ProjectionParameterFunctional('diffusion', size = 4, index = 3)\n",
    "\n",
    "e0 = ExpressionFunction('2 + cos(x[0]*(2**0)) * sin(x[1]*(2**0))', 2) \n",
    "e1 = ExpressionFunction('2 + cos(x[0]*(2**1)) * sin(x[1]*(2**1))', 2) # = 2 + cos(x₁/ε₁) * sin(x₂/ε₁), with ε₁ = 1/2\n",
    "e2 = ExpressionFunction('2 + cos(x[0]*(2**2)) * sin(x[1]*(2**2))', 2)\n",
    "e3 = ExpressionFunction('2 + cos(x[0]*(2**3)) * sin(x[1]*(2**3))', 2)\n",
    "\n",
    "problem = StationaryProblem(\n",
    "    domain = RectDomain(),\n",
    "    rhs = ConstantFunction(dim_domain = 2, value = 1.),\n",
    "    diffusion = LincombFunction([e0, e1, e2, e3],\n",
    "                                [p0, p1, p2, p3]),\n",
    "    parameter_ranges = (0.1, 1.),\n",
    ")\n",
    "\n",
    "fom, data = discretize_stationary_cg(problem, diameter = 1/50)\n",
    "\n",
    "mu = [0.1,0.1,0.1,1]\n",
    "U = fom.solve(mu)\n",
    "fom.visualize(U)"
   ]
  },
  {
   "cell_type": "code",
   "execution_count": 2,
   "id": "f0b64fb7-36b0-4372-8490-be8a137f6a7b",
   "metadata": {
    "tags": []
   },
   "outputs": [
    {
     "data": {
      "application/vnd.jupyter.widget-view+json": {
       "model_id": "682d6804cbdc4fa69cf60c65f24e01de",
       "version_major": 2,
       "version_minor": 0
      },
      "text/plain": [
       "Accordion(children=(HTML(value='', layout=Layout(height='16em', width='100%')),), titles=('Log Output',))"
      ]
     },
     "metadata": {},
     "output_type": "display_data"
    },
    {
     "data": {
      "application/vnd.jupyter.widget-view+json": {
       "model_id": "1383f3a9a01941dd91d389c266dc32ad",
       "version_major": 2,
       "version_minor": 0
      },
      "text/plain": [
       "VBox(children=(GridspecLayout(children=(VectorArrayPlot(antialias=3, axes=['x', 'y', 'z'], axes_helper_colors=…"
      ]
     },
     "execution_count": 2,
     "metadata": {},
     "output_type": "execute_result"
    }
   ],
   "source": [
    "# define wave problem 5\n",
    "\n",
    "# scale arguments of cos and sin by π to get more oscillations and thus more interesting patterns\n",
    "# offset waves by only 1.1 (instead of 2) to make patterns more visible (still strictly positive because e₀ ≥ 1 and μ₀ ≥ 0.1)\n",
    "\n",
    "p0 = ProjectionParameterFunctional('diffusion', size = 4, index = 0)\n",
    "p1 = ProjectionParameterFunctional('diffusion', size = 4, index = 1)\n",
    "p2 = ProjectionParameterFunctional('diffusion', size = 4, index = 2)\n",
    "p3 = ProjectionParameterFunctional('diffusion', size = 4, index = 3)\n",
    "\n",
    "\n",
    "e0 = ExpressionFunction('1.1 + cos(x[0]*(2**0)*pi) * sin(x[1]*(2**0)*pi)', 2)\n",
    "e1 = ExpressionFunction('1.1 + cos(x[0]*(2**1)*pi) * sin(x[1]*(2**1)*pi)', 2)\n",
    "e2 = ExpressionFunction('1.1 + cos(x[0]*(2**2)*pi) * sin(x[1]*(2**2)*pi)', 2)\n",
    "e3 = ExpressionFunction('1.1 + cos(x[0]*(2**3)*pi) * sin(x[1]*(2**3)*pi)', 2)\n",
    "\n",
    "problem = StationaryProblem(\n",
    "    domain = RectDomain(),\n",
    "    rhs = ConstantFunction(dim_domain = 2, value = 1.),\n",
    "    diffusion = LincombFunction([e0, e1, e2, e3],\n",
    "                                [p0, p1, p2, p3]),\n",
    "    parameter_ranges = (0.1, 1.),\n",
    ")\n",
    "\n",
    "fom, data = discretize_stationary_cg(problem, diameter = 1/50)\n",
    "\n",
    "mu = [0.1,1,0.1,1]\n",
    "U = fom.solve(mu)\n",
    "fom.visualize(U)"
   ]
  },
  {
   "cell_type": "markdown",
   "id": "8ecef076-2592-470a-8f40-0bce6cd1e46f",
   "metadata": {},
   "source": [
    "### Building Reduced Order Models:"
   ]
  },
  {
   "cell_type": "code",
   "execution_count": null,
   "id": "d08425f6-1fea-4d8a-b10a-08e8fe87dd25",
   "metadata": {},
   "outputs": [],
   "source": [
    "# Artificial Neural Network Reduced Model\n",
    "\n",
    "basis_size = 10\n",
    "\n",
    "start_ann = time.perf_counter() # measure training time\n",
    "\n",
    "parameter_space = fom.parameters.space((0.1, 1))\n",
    "\n",
    "training_set = parameter_space.sample_uniformly(3) #initially 100\n",
    "validation_set = parameter_space.sample_randomly(20)\n",
    "\n",
    "ann_reductor = NeuralNetworkReductor(\n",
    "    fom, training_set, validation_set, basis_size = basis_size, ann_mse = None #initially l2_err=1e-5, ann_mse=1e-5\n",
    ")\n",
    "\n",
    "ann_rom = ann_reductor.reduce(hidden_layers = [30, 30, 30], restarts=10, optimizer = optim.Adam, epochs = 15000, learning_rate = 1e-3, log_loss_frequency = 10)\n",
    "\n",
    "ann_train = time.perf_counter() - start_ann # measure training time"
   ]
  },
  {
   "cell_type": "raw",
   "id": "e99540ac-a595-471d-a78f-91f6e4ba328a",
   "metadata": {
    "tags": []
   },
   "source": [
    "# Coercive RB Model\n",
    "start_rb = time.perf_counter() # measure training time\n",
    "\n",
    "rb_reductor = CoerciveRBReductor(\n",
    "    fom,\n",
    "    product=fom.h1_0_semi_product,\n",
    "    coercivity_estimator=ExpressionParameterFunctional('min(diffusion)',\n",
    "                                                       fom.parameters)\n",
    ")\n",
    "#parameter_space = fom.parameters.space(0.1, 1)\n",
    "greedy_data = rb_greedy(fom, rb_reductor, parameter_space.sample_randomly(81), #initially 1000\n",
    "                        rtol=1e-2)\n",
    "rb_rom = greedy_data['rom']\n",
    "\n",
    "rb_train = time.perf_counter() - start_rb # measure training time"
   ]
  },
  {
   "cell_type": "code",
   "execution_count": null,
   "id": "efdfc584-d42e-434d-8ce6-dcee7acb52b2",
   "metadata": {
    "tags": []
   },
   "outputs": [],
   "source": [
    "# Coercive RB Model\n",
    "start_rb = time.perf_counter() # measure training time\n",
    "\n",
    "rb_reductor = CoerciveRBReductor(\n",
    "    fom,\n",
    "    product=fom.h1_0_semi_product,\n",
    "    coercivity_estimator=ExpressionParameterFunctional('min(diffusion)',\n",
    "                                                       fom.parameters)\n",
    ")\n",
    "#parameter_space = fom.parameters.space(0.1, 1)\n",
    "greedy_data = rb_greedy(fom, rb_reductor, training_set, #initially 1000\n",
    "                        max_extensions = basis_size)\n",
    "rb_rom = greedy_data['rom']\n",
    "\n",
    "rb_train = time.perf_counter() - start_rb # measure training time"
   ]
  },
  {
   "cell_type": "code",
   "execution_count": null,
   "id": "193a2a38-b6dd-40b8-9553-f23ba32bf669",
   "metadata": {
    "tags": []
   },
   "outputs": [],
   "source": [
    "# Visualize solutions\n",
    "\n",
    "mu = parameter_space.sample_randomly()\n",
    "\n",
    "U = fom.solve(mu)\n",
    "U_ann_red = ann_rom.solve(mu)\n",
    "U_ann_red_recon = ann_reductor.reconstruct(U_ann_red)\n",
    "U_rb_red = rb_rom.solve(mu)\n",
    "U_rb_red_recon = rb_reductor.reconstruct(U_rb_red)\n",
    "\n",
    "fom.visualize(\n",
    "    (U, U_ann_red_recon, U_rb_red_recon),\n",
    "    legend = (\n",
    "        f\"Full solution for parameter {mu}\",\n",
    "        f\"Reduced ANN solution for parameter {mu}\",\n",
    "        f\"Reduced RB solution for parameter {mu}\",\n",
    "    ),\n",
    ")"
   ]
  },
  {
   "cell_type": "markdown",
   "id": "ab1db033-def1-4314-9ca5-f4e82b8e5f43",
   "metadata": {},
   "source": [
    "### Testing"
   ]
  },
  {
   "cell_type": "code",
   "execution_count": null,
   "id": "9a38b862-4638-4b5f-978b-ca22a5374980",
   "metadata": {
    "tags": []
   },
   "outputs": [],
   "source": [
    "# Error Testing\n",
    "#mu = [0.1,1.,0.1,1]\n",
    "mu = parameter_space.sample_randomly()\n",
    "U = fom.solve(mu)\n",
    "U_ann_red = ann_rom.solve(mu)\n",
    "U_ann_red_recon = ann_reductor.reconstruct(U_ann_red)\n",
    "U_rb_red = rb_rom.solve(mu)\n",
    "U_rb_red_recon = rb_reductor.reconstruct(U_rb_red)\n",
    "\n",
    "fom.visualize(\n",
    "    (U - U_ann_red_recon, U - U_rb_red_recon),\n",
    "    legend = (\n",
    "        f\"Reduced ANN error {mu}\",\n",
    "        f\"Reduced RB error {mu}\",\n",
    "    ),\n",
    ")"
   ]
  },
  {
   "cell_type": "code",
   "execution_count": null,
   "id": "9b5a0da4-c3cd-4dbd-8e87-fbc32dfe2686",
   "metadata": {
    "tags": []
   },
   "outputs": [],
   "source": [
    "fom.visualize(U - U_rb_red_recon, legend = f\"Reduced RB error {mu}\")"
   ]
  },
  {
   "cell_type": "raw",
   "id": "60af558f-5777-498e-9f0f-dcc1c590bdc7",
   "metadata": {
    "tags": []
   },
   "source": [
    "mu = [0.1,1.,0.1,1]\n",
    "U = fom.solve(mu)\n",
    "U_red = rom.solve(mu)\n",
    "U_red_recon = reductor.reconstruct(U_red)\n",
    "\n",
    "fom.visualize(\n",
    "    (U, U_red_recon),\n",
    "    legend = (\n",
    "        f\"Full solution for parameter {mu}\",\n",
    "        f\"Reduced solution for parameter {mu}\",\n",
    "    ),\n",
    ")"
   ]
  },
  {
   "cell_type": "raw",
   "id": "10114079-1792-4475-8ecd-5a6a8b0077f1",
   "metadata": {
    "tags": []
   },
   "source": [
    "fom.parameters"
   ]
  },
  {
   "cell_type": "raw",
   "id": "724f7eba-5bc2-45ed-9ede-a648f2d489ad",
   "metadata": {
    "tags": []
   },
   "source": [
    "test_set = parameter_space.sample_randomly(10)\n",
    "\n",
    "U = fom.solution_space.empty(reserve=len(test_set))\n",
    "U_red = fom.solution_space.empty(reserve=len(test_set))\n",
    "\n",
    "speedups = []\n",
    "\n",
    "#import at the top\n",
    "for mu in test_set:\n",
    "    tic = time.perf_counter()\n",
    "    U.append(fom.solve(mu))\n",
    "    time_fom = time.perf_counter() - tic\n",
    "    \n",
    "    toc = time.perf_counter()\n",
    "    U_red.append(reductor.reconstruct(rom.solve(mu)))\n",
    "    time_red = time.perf_counter() - toc\n",
    "    \n",
    "    speedups.append(time_fom / time_red)\n",
    "    \n",
    "absolute_errors = (U - U_red).norm()\n",
    "relative_errors = (U - U_red).norm() / U.norm()\n",
    "\n",
    "print(f'{np.average(absolute_errors)}\\n{np.average(relative_errors)}\\n{np.median(speedups)}')"
   ]
  },
  {
   "cell_type": "code",
   "execution_count": null,
   "id": "1de44e40-0716-4876-b3c0-ec8993dc4c47",
   "metadata": {
    "tags": []
   },
   "outputs": [],
   "source": [
    "# Speedup testing\n",
    "test_set = parameter_space.sample_randomly(20)\n",
    "\n",
    "U = fom.solution_space.empty(reserve=len(test_set))\n",
    "U_ann_red = fom.solution_space.empty(reserve=len(test_set))\n",
    "U_rb_red = fom.solution_space.empty(reserve=len(test_set))\n",
    "\n",
    "ann_speedups = []\n",
    "rb_speedups = []\n",
    "\n",
    "ts_solve = []\n",
    "ts_recon = []\n",
    "ts_rb = []\n",
    "ts_fom = []\n",
    "\n",
    "#import at the top\n",
    "for mu in test_set:\n",
    "    tic = time.perf_counter()\n",
    "    U.append(fom.solve(mu))\n",
    "    time_fom = time.perf_counter() - tic\n",
    "    \n",
    "    tac = time.perf_counter()\n",
    "    U_ann_red.append(ann_reductor.reconstruct(ann_rom.solve(mu)))\n",
    "    time_ann = time.perf_counter() - tac\n",
    "    \n",
    "    toc = time.perf_counter()\n",
    "    U_rb_red.append(rb_reductor.reconstruct(rb_rom.solve(mu)))\n",
    "    time_rb = time.perf_counter() - toc\n",
    "    \n",
    "    ann_speedups.append(time_fom / time_ann)\n",
    "    rb_speedups.append(time_fom / time_rb)\n",
    "    \n",
    "    \n",
    "    tic = time.perf_counter()\n",
    "    slv = ann_rom.solve(mu)\n",
    "    time_solve = time.perf_counter() - tic\n",
    "    rec = ann_reductor.reconstruct(slv)\n",
    "    time_recon = time.perf_counter() - tic - time_solve\n",
    "    \n",
    "    ts_solve.append(time_solve)\n",
    "    ts_recon.append(time_recon)\n",
    "    ts_rb.append(time_rb)\n",
    "    ts_fom.append(time_fom)\n",
    "    \n",
    "absolute_ann_errors = (U - U_ann_red).norm()\n",
    "relative_ann_errors = (U - U_ann_red).norm() / U.norm()\n",
    "norm_errors = (U - U_ann_red).sup_norm()\n",
    "\n",
    "absolute_rb_errors = (U - U_rb_red).norm()\n",
    "relative_rb_errors = (U - U_rb_red).norm() / U.norm()\n",
    "    \n",
    "# output\n",
    "t = PrettyTable(['', 'ANN', 'Coercive RB'])\n",
    "t.align = 'l'\n",
    "t.add_row(['avg absolute error', f'{np.average(absolute_ann_errors)}', f'{np.average(absolute_rb_errors)}'])\n",
    "t.add_row(['avg relative error', f'{np.average(relative_ann_errors)}', f'{np.average(relative_rb_errors)}'])\n",
    "t.add_row(['mean speedup', f'{np.median(ann_speedups)}', f'{np.median(rb_speedups)}'])\n",
    "t.add_row(['training time', f'{ann_train}', f'{rb_train}'])\n",
    "print(t)\n",
    "\n",
    "print(f'ts_solve: {np.average(ts_solve)}\\nts_recon: {np.average(ts_recon)}\\nts_rb:    {np.average(ts_rb)}\\nts_fom:   {np.average(ts_fom)}')\n",
    "\n",
    "f = open(\"log.txt\", \"a\")\n",
    "f.write(t)\n",
    "f.close"
   ]
  },
  {
   "cell_type": "raw",
   "id": "9d537511-d6cc-4852-9c47-c0eec2352ce6",
   "metadata": {
    "tags": []
   },
   "source": [
    "l = [[1, 2, 3, 4],[2, 3, 4, 6]]\n",
    "print(f'{np.average(l[:][0])}\\n{np.average(l[:][1])}\\n{np.average(l[:][2])}\\n{np.average(l[:][3])}')"
   ]
  },
  {
   "cell_type": "raw",
   "id": "31f25f47-c20e-4fde-a3be-0b1f29594c0d",
   "metadata": {
    "tags": []
   },
   "source": [
    "l = np.array([[1, 2, 3, 4],[2, 3, 4, 6]])\n",
    "l3 = np.append(np.empty(shape = (0, 4)), l, axis = 0)\n",
    "l2 = l[:, 2]\n",
    "print(l3)"
   ]
  }
 ],
 "metadata": {
  "kernelspec": {
   "display_name": "Python 3 (ipykernel)",
   "language": "python",
   "name": "python3"
  },
  "language_info": {
   "codemirror_mode": {
    "name": "ipython",
    "version": 3
   },
   "file_extension": ".py",
   "mimetype": "text/x-python",
   "name": "python",
   "nbconvert_exporter": "python",
   "pygments_lexer": "ipython3",
   "version": "3.10.13"
  },
  "toc-autonumbering": false,
  "toc-showcode": true,
  "toc-showmarkdowntxt": false,
  "toc-showtags": true
 },
 "nbformat": 4,
 "nbformat_minor": 5
}
